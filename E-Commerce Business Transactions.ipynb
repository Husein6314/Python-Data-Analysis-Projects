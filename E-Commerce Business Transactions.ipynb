{
 "cells": [
  {
   "cell_type": "markdown",
   "id": "97d62111",
   "metadata": {},
   "source": [
    "## import important libraries "
   ]
  },
  {
   "cell_type": "code",
   "execution_count": 2,
   "id": "b5f14c2d",
   "metadata": {},
   "outputs": [],
   "source": [
    "import pandas as pd\n",
    "import seaborn as sns\n",
    "import matplotlib.pyplot as plt"
   ]
  },
  {
   "cell_type": "code",
   "execution_count": 3,
   "id": "f9ccb05a",
   "metadata": {},
   "outputs": [
    {
     "data": {
      "text/html": [
       "<div>\n",
       "<style scoped>\n",
       "    .dataframe tbody tr th:only-of-type {\n",
       "        vertical-align: middle;\n",
       "    }\n",
       "\n",
       "    .dataframe tbody tr th {\n",
       "        vertical-align: top;\n",
       "    }\n",
       "\n",
       "    .dataframe thead th {\n",
       "        text-align: right;\n",
       "    }\n",
       "</style>\n",
       "<table border=\"1\" class=\"dataframe\">\n",
       "  <thead>\n",
       "    <tr style=\"text-align: right;\">\n",
       "      <th></th>\n",
       "      <th>TransactionNo</th>\n",
       "      <th>Date</th>\n",
       "      <th>ProductNo</th>\n",
       "      <th>ProductName</th>\n",
       "      <th>Price</th>\n",
       "      <th>Quantity</th>\n",
       "      <th>CustomerNo</th>\n",
       "      <th>Country</th>\n",
       "    </tr>\n",
       "  </thead>\n",
       "  <tbody>\n",
       "    <tr>\n",
       "      <th>0</th>\n",
       "      <td>581482</td>\n",
       "      <td>12/9/2019</td>\n",
       "      <td>22485</td>\n",
       "      <td>Set Of 2 Wooden Market Crates</td>\n",
       "      <td>21.47</td>\n",
       "      <td>12</td>\n",
       "      <td>17490.0</td>\n",
       "      <td>United Kingdom</td>\n",
       "    </tr>\n",
       "    <tr>\n",
       "      <th>1</th>\n",
       "      <td>581475</td>\n",
       "      <td>12/9/2019</td>\n",
       "      <td>22596</td>\n",
       "      <td>Christmas Star Wish List Chalkboard</td>\n",
       "      <td>10.65</td>\n",
       "      <td>36</td>\n",
       "      <td>13069.0</td>\n",
       "      <td>United Kingdom</td>\n",
       "    </tr>\n",
       "    <tr>\n",
       "      <th>2</th>\n",
       "      <td>581475</td>\n",
       "      <td>12/9/2019</td>\n",
       "      <td>23235</td>\n",
       "      <td>Storage Tin Vintage Leaf</td>\n",
       "      <td>11.53</td>\n",
       "      <td>12</td>\n",
       "      <td>13069.0</td>\n",
       "      <td>United Kingdom</td>\n",
       "    </tr>\n",
       "    <tr>\n",
       "      <th>3</th>\n",
       "      <td>581475</td>\n",
       "      <td>12/9/2019</td>\n",
       "      <td>23272</td>\n",
       "      <td>Tree T-Light Holder Willie Winkie</td>\n",
       "      <td>10.65</td>\n",
       "      <td>12</td>\n",
       "      <td>13069.0</td>\n",
       "      <td>United Kingdom</td>\n",
       "    </tr>\n",
       "    <tr>\n",
       "      <th>4</th>\n",
       "      <td>581475</td>\n",
       "      <td>12/9/2019</td>\n",
       "      <td>23239</td>\n",
       "      <td>Set Of 4 Knick Knack Tins Poppies</td>\n",
       "      <td>11.94</td>\n",
       "      <td>6</td>\n",
       "      <td>13069.0</td>\n",
       "      <td>United Kingdom</td>\n",
       "    </tr>\n",
       "  </tbody>\n",
       "</table>\n",
       "</div>"
      ],
      "text/plain": [
       "  TransactionNo       Date ProductNo                          ProductName  \\\n",
       "0        581482  12/9/2019     22485        Set Of 2 Wooden Market Crates   \n",
       "1        581475  12/9/2019     22596  Christmas Star Wish List Chalkboard   \n",
       "2        581475  12/9/2019     23235             Storage Tin Vintage Leaf   \n",
       "3        581475  12/9/2019     23272    Tree T-Light Holder Willie Winkie   \n",
       "4        581475  12/9/2019     23239    Set Of 4 Knick Knack Tins Poppies   \n",
       "\n",
       "   Price  Quantity  CustomerNo         Country  \n",
       "0  21.47        12     17490.0  United Kingdom  \n",
       "1  10.65        36     13069.0  United Kingdom  \n",
       "2  11.53        12     13069.0  United Kingdom  \n",
       "3  10.65        12     13069.0  United Kingdom  \n",
       "4  11.94         6     13069.0  United Kingdom  "
      ]
     },
     "execution_count": 3,
     "metadata": {},
     "output_type": "execute_result"
    }
   ],
   "source": [
    "df = pd.read_csv('Sales Transaction v.4a.csv')\n",
    "df.head()"
   ]
  },
  {
   "cell_type": "markdown",
   "id": "1e3439aa",
   "metadata": {},
   "source": [
    "## Data Preparation and Cleaning"
   ]
  },
  {
   "cell_type": "code",
   "execution_count": 4,
   "id": "cd53c1d6",
   "metadata": {},
   "outputs": [
    {
     "data": {
      "text/html": [
       "<div>\n",
       "<style scoped>\n",
       "    .dataframe tbody tr th:only-of-type {\n",
       "        vertical-align: middle;\n",
       "    }\n",
       "\n",
       "    .dataframe tbody tr th {\n",
       "        vertical-align: top;\n",
       "    }\n",
       "\n",
       "    .dataframe thead th {\n",
       "        text-align: right;\n",
       "    }\n",
       "</style>\n",
       "<table border=\"1\" class=\"dataframe\">\n",
       "  <thead>\n",
       "    <tr style=\"text-align: right;\">\n",
       "      <th></th>\n",
       "      <th>TransactionNo</th>\n",
       "      <th>Date</th>\n",
       "      <th>ProductNo</th>\n",
       "      <th>ProductName</th>\n",
       "      <th>Price</th>\n",
       "      <th>Quantity</th>\n",
       "      <th>CustomerNo</th>\n",
       "      <th>Country</th>\n",
       "    </tr>\n",
       "  </thead>\n",
       "  <tbody>\n",
       "    <tr>\n",
       "      <th>0</th>\n",
       "      <td>581482</td>\n",
       "      <td>12/9/2019</td>\n",
       "      <td>22485</td>\n",
       "      <td>Set Of 2 Wooden Market Crates</td>\n",
       "      <td>21.47</td>\n",
       "      <td>12</td>\n",
       "      <td>17490.0</td>\n",
       "      <td>United Kingdom</td>\n",
       "    </tr>\n",
       "    <tr>\n",
       "      <th>1</th>\n",
       "      <td>581475</td>\n",
       "      <td>12/9/2019</td>\n",
       "      <td>22596</td>\n",
       "      <td>Christmas Star Wish List Chalkboard</td>\n",
       "      <td>10.65</td>\n",
       "      <td>36</td>\n",
       "      <td>13069.0</td>\n",
       "      <td>United Kingdom</td>\n",
       "    </tr>\n",
       "    <tr>\n",
       "      <th>2</th>\n",
       "      <td>581475</td>\n",
       "      <td>12/9/2019</td>\n",
       "      <td>23235</td>\n",
       "      <td>Storage Tin Vintage Leaf</td>\n",
       "      <td>11.53</td>\n",
       "      <td>12</td>\n",
       "      <td>13069.0</td>\n",
       "      <td>United Kingdom</td>\n",
       "    </tr>\n",
       "    <tr>\n",
       "      <th>3</th>\n",
       "      <td>581475</td>\n",
       "      <td>12/9/2019</td>\n",
       "      <td>23272</td>\n",
       "      <td>Tree T-Light Holder Willie Winkie</td>\n",
       "      <td>10.65</td>\n",
       "      <td>12</td>\n",
       "      <td>13069.0</td>\n",
       "      <td>United Kingdom</td>\n",
       "    </tr>\n",
       "    <tr>\n",
       "      <th>4</th>\n",
       "      <td>581475</td>\n",
       "      <td>12/9/2019</td>\n",
       "      <td>23239</td>\n",
       "      <td>Set Of 4 Knick Knack Tins Poppies</td>\n",
       "      <td>11.94</td>\n",
       "      <td>6</td>\n",
       "      <td>13069.0</td>\n",
       "      <td>United Kingdom</td>\n",
       "    </tr>\n",
       "  </tbody>\n",
       "</table>\n",
       "</div>"
      ],
      "text/plain": [
       "  TransactionNo       Date ProductNo                          ProductName  \\\n",
       "0        581482  12/9/2019     22485        Set Of 2 Wooden Market Crates   \n",
       "1        581475  12/9/2019     22596  Christmas Star Wish List Chalkboard   \n",
       "2        581475  12/9/2019     23235             Storage Tin Vintage Leaf   \n",
       "3        581475  12/9/2019     23272    Tree T-Light Holder Willie Winkie   \n",
       "4        581475  12/9/2019     23239    Set Of 4 Knick Knack Tins Poppies   \n",
       "\n",
       "   Price  Quantity  CustomerNo         Country  \n",
       "0  21.47        12     17490.0  United Kingdom  \n",
       "1  10.65        36     13069.0  United Kingdom  \n",
       "2  11.53        12     13069.0  United Kingdom  \n",
       "3  10.65        12     13069.0  United Kingdom  \n",
       "4  11.94         6     13069.0  United Kingdom  "
      ]
     },
     "execution_count": 4,
     "metadata": {},
     "output_type": "execute_result"
    }
   ],
   "source": [
    "df.head()"
   ]
  },
  {
   "cell_type": "code",
   "execution_count": 5,
   "id": "02dfd1d3",
   "metadata": {},
   "outputs": [
    {
     "data": {
      "text/plain": [
       "(536350, 8)"
      ]
     },
     "execution_count": 5,
     "metadata": {},
     "output_type": "execute_result"
    }
   ],
   "source": [
    "df.shape"
   ]
  },
  {
   "cell_type": "code",
   "execution_count": 6,
   "id": "cd737934",
   "metadata": {},
   "outputs": [
    {
     "data": {
      "text/plain": [
       "4290800"
      ]
     },
     "execution_count": 6,
     "metadata": {},
     "output_type": "execute_result"
    }
   ],
   "source": [
    "df.size"
   ]
  },
  {
   "cell_type": "code",
   "execution_count": 7,
   "id": "639d98b4",
   "metadata": {},
   "outputs": [
    {
     "data": {
      "text/plain": [
       "Index(['TransactionNo', 'Date', 'ProductNo', 'ProductName', 'Price',\n",
       "       'Quantity', 'CustomerNo', 'Country'],\n",
       "      dtype='object')"
      ]
     },
     "execution_count": 7,
     "metadata": {},
     "output_type": "execute_result"
    }
   ],
   "source": [
    "df.columns"
   ]
  },
  {
   "cell_type": "code",
   "execution_count": 8,
   "id": "1801f934",
   "metadata": {},
   "outputs": [
    {
     "name": "stdout",
     "output_type": "stream",
     "text": [
      "<class 'pandas.core.frame.DataFrame'>\n",
      "RangeIndex: 536350 entries, 0 to 536349\n",
      "Data columns (total 8 columns):\n",
      " #   Column         Non-Null Count   Dtype  \n",
      "---  ------         --------------   -----  \n",
      " 0   TransactionNo  536350 non-null  object \n",
      " 1   Date           536350 non-null  object \n",
      " 2   ProductNo      536350 non-null  object \n",
      " 3   ProductName    536350 non-null  object \n",
      " 4   Price          536350 non-null  float64\n",
      " 5   Quantity       536350 non-null  int64  \n",
      " 6   CustomerNo     536295 non-null  float64\n",
      " 7   Country        536350 non-null  object \n",
      "dtypes: float64(2), int64(1), object(5)\n",
      "memory usage: 32.7+ MB\n"
     ]
    }
   ],
   "source": [
    "df.info()"
   ]
  },
  {
   "cell_type": "code",
   "execution_count": 9,
   "id": "60e9b6c4",
   "metadata": {},
   "outputs": [
    {
     "data": {
      "text/plain": [
       "TransactionNo     0\n",
       "Date              0\n",
       "ProductNo         0\n",
       "ProductName       0\n",
       "Price             0\n",
       "Quantity          0\n",
       "CustomerNo       55\n",
       "Country           0\n",
       "dtype: int64"
      ]
     },
     "execution_count": 9,
     "metadata": {},
     "output_type": "execute_result"
    }
   ],
   "source": [
    "# checking null values\n",
    "df.isnull().sum()"
   ]
  },
  {
   "cell_type": "code",
   "execution_count": 10,
   "id": "f0c61467",
   "metadata": {},
   "outputs": [],
   "source": [
    "# Remove null values from the dataset\n",
    "del_df = df.dropna(axis=0, how='any', inplace=True)\n",
    "del_df"
   ]
  },
  {
   "cell_type": "code",
   "execution_count": 11,
   "id": "f7451792",
   "metadata": {},
   "outputs": [
    {
     "data": {
      "text/plain": [
       "TransactionNo    0\n",
       "Date             0\n",
       "ProductNo        0\n",
       "ProductName      0\n",
       "Price            0\n",
       "Quantity         0\n",
       "CustomerNo       0\n",
       "Country          0\n",
       "dtype: int64"
      ]
     },
     "execution_count": 11,
     "metadata": {},
     "output_type": "execute_result"
    }
   ],
   "source": [
    "df.isnull().sum()"
   ]
  },
  {
   "cell_type": "code",
   "execution_count": 12,
   "id": "2fc632ac",
   "metadata": {},
   "outputs": [
    {
     "name": "stdout",
     "output_type": "stream",
     "text": [
      "<class 'pandas.core.frame.DataFrame'>\n",
      "Int64Index: 536295 entries, 0 to 536349\n",
      "Data columns (total 8 columns):\n",
      " #   Column         Non-Null Count   Dtype         \n",
      "---  ------         --------------   -----         \n",
      " 0   TransactionNo  536295 non-null  object        \n",
      " 1   Date           536295 non-null  datetime64[ns]\n",
      " 2   ProductNo      536295 non-null  object        \n",
      " 3   ProductName    536295 non-null  object        \n",
      " 4   Price          536295 non-null  float64       \n",
      " 5   Quantity       536295 non-null  int64         \n",
      " 6   CustomerNo     536295 non-null  float64       \n",
      " 7   Country        536295 non-null  object        \n",
      "dtypes: datetime64[ns](1), float64(2), int64(1), object(4)\n",
      "memory usage: 36.8+ MB\n"
     ]
    }
   ],
   "source": [
    "# Convert data type of date into datetime\n",
    "date_format = '%m/%d/%Y'\n",
    "df['Date'] = pd.to_datetime(df['Date'], format=date_format)\n",
    "df.info()"
   ]
  },
  {
   "cell_type": "code",
   "execution_count": 13,
   "id": "a72d6ab9",
   "metadata": {},
   "outputs": [],
   "source": [
    "# Create new columns\n",
    "df['TotalPrice'] = df['Price'] * df['Quantity']\n",
    "\n",
    "# create year column\n",
    "df['Year'] = df['Date'].dt.year\n",
    "\n",
    "# create month column\n",
    "df['Month'] = df['Date'].dt.month"
   ]
  },
  {
   "cell_type": "code",
   "execution_count": 14,
   "id": "7369fc46",
   "metadata": {},
   "outputs": [
    {
     "data": {
      "text/html": [
       "<div>\n",
       "<style scoped>\n",
       "    .dataframe tbody tr th:only-of-type {\n",
       "        vertical-align: middle;\n",
       "    }\n",
       "\n",
       "    .dataframe tbody tr th {\n",
       "        vertical-align: top;\n",
       "    }\n",
       "\n",
       "    .dataframe thead th {\n",
       "        text-align: right;\n",
       "    }\n",
       "</style>\n",
       "<table border=\"1\" class=\"dataframe\">\n",
       "  <thead>\n",
       "    <tr style=\"text-align: right;\">\n",
       "      <th></th>\n",
       "      <th>TransactionNo</th>\n",
       "      <th>Date</th>\n",
       "      <th>ProductNo</th>\n",
       "      <th>ProductName</th>\n",
       "      <th>Price</th>\n",
       "      <th>Quantity</th>\n",
       "      <th>CustomerNo</th>\n",
       "      <th>Country</th>\n",
       "      <th>TotalPrice</th>\n",
       "      <th>Year</th>\n",
       "      <th>Month</th>\n",
       "    </tr>\n",
       "  </thead>\n",
       "  <tbody>\n",
       "    <tr>\n",
       "      <th>0</th>\n",
       "      <td>581482</td>\n",
       "      <td>2019-12-09</td>\n",
       "      <td>22485</td>\n",
       "      <td>Set Of 2 Wooden Market Crates</td>\n",
       "      <td>21.47</td>\n",
       "      <td>12</td>\n",
       "      <td>17490.0</td>\n",
       "      <td>United Kingdom</td>\n",
       "      <td>257.64</td>\n",
       "      <td>2019</td>\n",
       "      <td>12</td>\n",
       "    </tr>\n",
       "    <tr>\n",
       "      <th>1</th>\n",
       "      <td>581475</td>\n",
       "      <td>2019-12-09</td>\n",
       "      <td>22596</td>\n",
       "      <td>Christmas Star Wish List Chalkboard</td>\n",
       "      <td>10.65</td>\n",
       "      <td>36</td>\n",
       "      <td>13069.0</td>\n",
       "      <td>United Kingdom</td>\n",
       "      <td>383.40</td>\n",
       "      <td>2019</td>\n",
       "      <td>12</td>\n",
       "    </tr>\n",
       "    <tr>\n",
       "      <th>2</th>\n",
       "      <td>581475</td>\n",
       "      <td>2019-12-09</td>\n",
       "      <td>23235</td>\n",
       "      <td>Storage Tin Vintage Leaf</td>\n",
       "      <td>11.53</td>\n",
       "      <td>12</td>\n",
       "      <td>13069.0</td>\n",
       "      <td>United Kingdom</td>\n",
       "      <td>138.36</td>\n",
       "      <td>2019</td>\n",
       "      <td>12</td>\n",
       "    </tr>\n",
       "    <tr>\n",
       "      <th>3</th>\n",
       "      <td>581475</td>\n",
       "      <td>2019-12-09</td>\n",
       "      <td>23272</td>\n",
       "      <td>Tree T-Light Holder Willie Winkie</td>\n",
       "      <td>10.65</td>\n",
       "      <td>12</td>\n",
       "      <td>13069.0</td>\n",
       "      <td>United Kingdom</td>\n",
       "      <td>127.80</td>\n",
       "      <td>2019</td>\n",
       "      <td>12</td>\n",
       "    </tr>\n",
       "    <tr>\n",
       "      <th>4</th>\n",
       "      <td>581475</td>\n",
       "      <td>2019-12-09</td>\n",
       "      <td>23239</td>\n",
       "      <td>Set Of 4 Knick Knack Tins Poppies</td>\n",
       "      <td>11.94</td>\n",
       "      <td>6</td>\n",
       "      <td>13069.0</td>\n",
       "      <td>United Kingdom</td>\n",
       "      <td>71.64</td>\n",
       "      <td>2019</td>\n",
       "      <td>12</td>\n",
       "    </tr>\n",
       "  </tbody>\n",
       "</table>\n",
       "</div>"
      ],
      "text/plain": [
       "  TransactionNo       Date ProductNo                          ProductName  \\\n",
       "0        581482 2019-12-09     22485        Set Of 2 Wooden Market Crates   \n",
       "1        581475 2019-12-09     22596  Christmas Star Wish List Chalkboard   \n",
       "2        581475 2019-12-09     23235             Storage Tin Vintage Leaf   \n",
       "3        581475 2019-12-09     23272    Tree T-Light Holder Willie Winkie   \n",
       "4        581475 2019-12-09     23239    Set Of 4 Knick Knack Tins Poppies   \n",
       "\n",
       "   Price  Quantity  CustomerNo         Country  TotalPrice  Year  Month  \n",
       "0  21.47        12     17490.0  United Kingdom      257.64  2019     12  \n",
       "1  10.65        36     13069.0  United Kingdom      383.40  2019     12  \n",
       "2  11.53        12     13069.0  United Kingdom      138.36  2019     12  \n",
       "3  10.65        12     13069.0  United Kingdom      127.80  2019     12  \n",
       "4  11.94         6     13069.0  United Kingdom       71.64  2019     12  "
      ]
     },
     "execution_count": 14,
     "metadata": {},
     "output_type": "execute_result"
    }
   ],
   "source": [
    "df.head()"
   ]
  },
  {
   "cell_type": "code",
   "execution_count": null,
   "id": "0f614e34",
   "metadata": {},
   "outputs": [],
   "source": []
  },
  {
   "cell_type": "markdown",
   "id": "47481355",
   "metadata": {},
   "source": [
    "## Exploratory analysis & Visualization"
   ]
  },
  {
   "cell_type": "code",
   "execution_count": 15,
   "id": "7b782157",
   "metadata": {},
   "outputs": [
    {
     "data": {
      "text/html": [
       "<div>\n",
       "<style scoped>\n",
       "    .dataframe tbody tr th:only-of-type {\n",
       "        vertical-align: middle;\n",
       "    }\n",
       "\n",
       "    .dataframe tbody tr th {\n",
       "        vertical-align: top;\n",
       "    }\n",
       "\n",
       "    .dataframe thead th {\n",
       "        text-align: right;\n",
       "    }\n",
       "</style>\n",
       "<table border=\"1\" class=\"dataframe\">\n",
       "  <thead>\n",
       "    <tr style=\"text-align: right;\">\n",
       "      <th></th>\n",
       "      <th>Price</th>\n",
       "      <th>Quantity</th>\n",
       "      <th>CustomerNo</th>\n",
       "      <th>TotalPrice</th>\n",
       "      <th>Year</th>\n",
       "      <th>Month</th>\n",
       "    </tr>\n",
       "  </thead>\n",
       "  <tbody>\n",
       "    <tr>\n",
       "      <th>count</th>\n",
       "      <td>536295.000000</td>\n",
       "      <td>536295.000000</td>\n",
       "      <td>536295.000000</td>\n",
       "      <td>5.362950e+05</td>\n",
       "      <td>536295.000000</td>\n",
       "      <td>536295.000000</td>\n",
       "    </tr>\n",
       "    <tr>\n",
       "      <th>mean</th>\n",
       "      <td>12.662031</td>\n",
       "      <td>9.923902</td>\n",
       "      <td>15227.893178</td>\n",
       "      <td>1.124341e+02</td>\n",
       "      <td>2018.921515</td>\n",
       "      <td>7.558452</td>\n",
       "    </tr>\n",
       "    <tr>\n",
       "      <th>std</th>\n",
       "      <td>8.490638</td>\n",
       "      <td>216.671641</td>\n",
       "      <td>1716.582932</td>\n",
       "      <td>2.277487e+03</td>\n",
       "      <td>0.268933</td>\n",
       "      <td>3.509416</td>\n",
       "    </tr>\n",
       "    <tr>\n",
       "      <th>min</th>\n",
       "      <td>5.130000</td>\n",
       "      <td>-80995.000000</td>\n",
       "      <td>12004.000000</td>\n",
       "      <td>-8.401138e+05</td>\n",
       "      <td>2018.000000</td>\n",
       "      <td>1.000000</td>\n",
       "    </tr>\n",
       "    <tr>\n",
       "      <th>25%</th>\n",
       "      <td>10.990000</td>\n",
       "      <td>1.000000</td>\n",
       "      <td>13807.000000</td>\n",
       "      <td>1.618000e+01</td>\n",
       "      <td>2019.000000</td>\n",
       "      <td>5.000000</td>\n",
       "    </tr>\n",
       "    <tr>\n",
       "      <th>50%</th>\n",
       "      <td>11.940000</td>\n",
       "      <td>3.000000</td>\n",
       "      <td>15152.000000</td>\n",
       "      <td>4.272000e+01</td>\n",
       "      <td>2019.000000</td>\n",
       "      <td>8.000000</td>\n",
       "    </tr>\n",
       "    <tr>\n",
       "      <th>75%</th>\n",
       "      <td>14.090000</td>\n",
       "      <td>10.000000</td>\n",
       "      <td>16729.000000</td>\n",
       "      <td>1.160250e+02</td>\n",
       "      <td>2019.000000</td>\n",
       "      <td>11.000000</td>\n",
       "    </tr>\n",
       "    <tr>\n",
       "      <th>max</th>\n",
       "      <td>660.620000</td>\n",
       "      <td>80995.000000</td>\n",
       "      <td>18287.000000</td>\n",
       "      <td>1.002718e+06</td>\n",
       "      <td>2019.000000</td>\n",
       "      <td>12.000000</td>\n",
       "    </tr>\n",
       "  </tbody>\n",
       "</table>\n",
       "</div>"
      ],
      "text/plain": [
       "               Price       Quantity     CustomerNo    TotalPrice  \\\n",
       "count  536295.000000  536295.000000  536295.000000  5.362950e+05   \n",
       "mean       12.662031       9.923902   15227.893178  1.124341e+02   \n",
       "std         8.490638     216.671641    1716.582932  2.277487e+03   \n",
       "min         5.130000  -80995.000000   12004.000000 -8.401138e+05   \n",
       "25%        10.990000       1.000000   13807.000000  1.618000e+01   \n",
       "50%        11.940000       3.000000   15152.000000  4.272000e+01   \n",
       "75%        14.090000      10.000000   16729.000000  1.160250e+02   \n",
       "max       660.620000   80995.000000   18287.000000  1.002718e+06   \n",
       "\n",
       "                Year          Month  \n",
       "count  536295.000000  536295.000000  \n",
       "mean     2018.921515       7.558452  \n",
       "std         0.268933       3.509416  \n",
       "min      2018.000000       1.000000  \n",
       "25%      2019.000000       5.000000  \n",
       "50%      2019.000000       8.000000  \n",
       "75%      2019.000000      11.000000  \n",
       "max      2019.000000      12.000000  "
      ]
     },
     "execution_count": 15,
     "metadata": {},
     "output_type": "execute_result"
    }
   ],
   "source": [
    "df.describe()"
   ]
  },
  {
   "cell_type": "markdown",
   "id": "f09dd6d2",
   "metadata": {},
   "source": [
    "## Find outliers"
   ]
  },
  {
   "cell_type": "code",
   "execution_count": 16,
   "id": "711eb1f9",
   "metadata": {},
   "outputs": [
    {
     "data": {
      "text/plain": [
       "<Axes: >"
      ]
     },
     "execution_count": 16,
     "metadata": {},
     "output_type": "execute_result"
    },
    {
     "data": {
      "image/png": "[encoded data removed]",
      "text/plain": [
       "<Figure size 640x480 with 1 Axes>"
      ]
     },
     "metadata": {},
     "output_type": "display_data"
    }
   ],
   "source": [
    "sns.boxplot(df[['Quantity','TotalPrice','Year', 'Price']])"
   ]
  },
  {
   "cell_type": "markdown",
   "id": "91c1c77c",
   "metadata": {},
   "source": [
    "# IQR Method"
   ]
  },
  {
   "cell_type": "code",
   "execution_count": 17,
   "id": "2b02b3ec",
   "metadata": {},
   "outputs": [],
   "source": [
    "# cleaning ouliter in totalprice column\n",
    "Q1 = df['TotalPrice'].quantile(0.25)\n",
    "Q3 = df['TotalPrice'].quantile(0.75)"
   ]
  },
  {
   "cell_type": "code",
   "execution_count": 18,
   "id": "1e7208b3",
   "metadata": {},
   "outputs": [],
   "source": [
    "IQR = Q3 - Q1"
   ]
  },
  {
   "cell_type": "code",
   "execution_count": 19,
   "id": "30c699b5",
   "metadata": {},
   "outputs": [],
   "source": [
    "lower_limit = Q1 - (1.5 * IQR)\n",
    "upper_limit = Q3 + (1.5 * IQR)"
   ]
  },
  {
   "cell_type": "code",
   "execution_count": 20,
   "id": "b9c5d87a",
   "metadata": {},
   "outputs": [
    {
     "data": {
      "text/plain": [
       "(-133.58749999999998, 265.7925)"
      ]
     },
     "execution_count": 20,
     "metadata": {},
     "output_type": "execute_result"
    }
   ],
   "source": [
    "lower_limit,upper_limit"
   ]
  },
  {
   "cell_type": "code",
   "execution_count": 21,
   "id": "012de7cf",
   "metadata": {},
   "outputs": [
    {
     "data": {
      "text/plain": [
       "<Axes: >"
      ]
     },
     "execution_count": 21,
     "metadata": {},
     "output_type": "execute_result"
    },
    {
     "data": {
      "image/png": "[encoded data removed]",
      "text/plain": [
       "<Figure size 640x480 with 1 Axes>"
      ]
     },
     "metadata": {},
     "output_type": "display_data"
    }
   ],
   "source": [
    " sns.boxplot(df['TotalPrice'])"
   ]
  },
  {
   "cell_type": "markdown",
   "id": "3fa26570",
   "metadata": {},
   "source": [
    "## Finding First outlier"
   ]
  },
  {
   "cell_type": "code",
   "execution_count": 22,
   "id": "ef9e06ce",
   "metadata": {},
   "outputs": [
    {
     "data": {
      "text/html": [
       "<div>\n",
       "<style scoped>\n",
       "    .dataframe tbody tr th:only-of-type {\n",
       "        vertical-align: middle;\n",
       "    }\n",
       "\n",
       "    .dataframe tbody tr th {\n",
       "        vertical-align: top;\n",
       "    }\n",
       "\n",
       "    .dataframe thead th {\n",
       "        text-align: right;\n",
       "    }\n",
       "</style>\n",
       "<table border=\"1\" class=\"dataframe\">\n",
       "  <thead>\n",
       "    <tr style=\"text-align: right;\">\n",
       "      <th></th>\n",
       "      <th>TransactionNo</th>\n",
       "      <th>Date</th>\n",
       "      <th>ProductNo</th>\n",
       "      <th>ProductName</th>\n",
       "      <th>Price</th>\n",
       "      <th>Quantity</th>\n",
       "      <th>CustomerNo</th>\n",
       "      <th>Country</th>\n",
       "      <th>TotalPrice</th>\n",
       "      <th>Year</th>\n",
       "      <th>Month</th>\n",
       "    </tr>\n",
       "  </thead>\n",
       "  <tbody>\n",
       "    <tr>\n",
       "      <th>1</th>\n",
       "      <td>581475</td>\n",
       "      <td>2019-12-09</td>\n",
       "      <td>22596</td>\n",
       "      <td>Christmas Star Wish List Chalkboard</td>\n",
       "      <td>10.65</td>\n",
       "      <td>36</td>\n",
       "      <td>13069.0</td>\n",
       "      <td>United Kingdom</td>\n",
       "      <td>383.40</td>\n",
       "      <td>2019</td>\n",
       "      <td>12</td>\n",
       "    </tr>\n",
       "    <tr>\n",
       "      <th>19</th>\n",
       "      <td>581475</td>\n",
       "      <td>2019-12-09</td>\n",
       "      <td>22581</td>\n",
       "      <td>Wood Stocking Christmas Scandispot</td>\n",
       "      <td>10.55</td>\n",
       "      <td>48</td>\n",
       "      <td>13069.0</td>\n",
       "      <td>United Kingdom</td>\n",
       "      <td>506.40</td>\n",
       "      <td>2019</td>\n",
       "      <td>12</td>\n",
       "    </tr>\n",
       "    <tr>\n",
       "      <th>20</th>\n",
       "      <td>581476</td>\n",
       "      <td>2019-12-09</td>\n",
       "      <td>23198</td>\n",
       "      <td>Pantry Magnetic Shopping List</td>\n",
       "      <td>11.53</td>\n",
       "      <td>48</td>\n",
       "      <td>12433.0</td>\n",
       "      <td>Norway</td>\n",
       "      <td>553.44</td>\n",
       "      <td>2019</td>\n",
       "      <td>12</td>\n",
       "    </tr>\n",
       "    <tr>\n",
       "      <th>21</th>\n",
       "      <td>581476</td>\n",
       "      <td>2019-12-09</td>\n",
       "      <td>23197</td>\n",
       "      <td>Sketchbook Magnetic Shopping List</td>\n",
       "      <td>11.74</td>\n",
       "      <td>24</td>\n",
       "      <td>12433.0</td>\n",
       "      <td>Norway</td>\n",
       "      <td>281.76</td>\n",
       "      <td>2019</td>\n",
       "      <td>12</td>\n",
       "    </tr>\n",
       "    <tr>\n",
       "      <th>24</th>\n",
       "      <td>581476</td>\n",
       "      <td>2019-12-09</td>\n",
       "      <td>23167</td>\n",
       "      <td>Small Ceramic Top Storage Jar</td>\n",
       "      <td>10.96</td>\n",
       "      <td>96</td>\n",
       "      <td>12433.0</td>\n",
       "      <td>Norway</td>\n",
       "      <td>1052.16</td>\n",
       "      <td>2019</td>\n",
       "      <td>12</td>\n",
       "    </tr>\n",
       "    <tr>\n",
       "      <th>...</th>\n",
       "      <td>...</td>\n",
       "      <td>...</td>\n",
       "      <td>...</td>\n",
       "      <td>...</td>\n",
       "      <td>...</td>\n",
       "      <td>...</td>\n",
       "      <td>...</td>\n",
       "      <td>...</td>\n",
       "      <td>...</td>\n",
       "      <td>...</td>\n",
       "      <td>...</td>\n",
       "    </tr>\n",
       "    <tr>\n",
       "      <th>536328</th>\n",
       "      <td>C536391</td>\n",
       "      <td>2018-12-01</td>\n",
       "      <td>21983</td>\n",
       "      <td>Pack Of 12 Blue Paisley Tissues</td>\n",
       "      <td>10.55</td>\n",
       "      <td>-24</td>\n",
       "      <td>17548.0</td>\n",
       "      <td>United Kingdom</td>\n",
       "      <td>-253.20</td>\n",
       "      <td>2018</td>\n",
       "      <td>12</td>\n",
       "    </tr>\n",
       "    <tr>\n",
       "      <th>536329</th>\n",
       "      <td>C536391</td>\n",
       "      <td>2018-12-01</td>\n",
       "      <td>21980</td>\n",
       "      <td>Pack Of 12 Red Retrospot Tissues</td>\n",
       "      <td>10.55</td>\n",
       "      <td>-24</td>\n",
       "      <td>17548.0</td>\n",
       "      <td>United Kingdom</td>\n",
       "      <td>-253.20</td>\n",
       "      <td>2018</td>\n",
       "      <td>12</td>\n",
       "    </tr>\n",
       "    <tr>\n",
       "      <th>536330</th>\n",
       "      <td>C536391</td>\n",
       "      <td>2018-12-01</td>\n",
       "      <td>21484</td>\n",
       "      <td>Chick Grey Hot Water Bottle</td>\n",
       "      <td>13.79</td>\n",
       "      <td>-12</td>\n",
       "      <td>17548.0</td>\n",
       "      <td>United Kingdom</td>\n",
       "      <td>-165.48</td>\n",
       "      <td>2018</td>\n",
       "      <td>12</td>\n",
       "    </tr>\n",
       "    <tr>\n",
       "      <th>536331</th>\n",
       "      <td>C536391</td>\n",
       "      <td>2018-12-01</td>\n",
       "      <td>22557</td>\n",
       "      <td>Plasters In Tin Vintage Paisley</td>\n",
       "      <td>11.94</td>\n",
       "      <td>-12</td>\n",
       "      <td>17548.0</td>\n",
       "      <td>United Kingdom</td>\n",
       "      <td>-143.28</td>\n",
       "      <td>2018</td>\n",
       "      <td>12</td>\n",
       "    </tr>\n",
       "    <tr>\n",
       "      <th>536332</th>\n",
       "      <td>C536391</td>\n",
       "      <td>2018-12-01</td>\n",
       "      <td>22553</td>\n",
       "      <td>Plasters In Tin Skulls</td>\n",
       "      <td>11.94</td>\n",
       "      <td>-24</td>\n",
       "      <td>17548.0</td>\n",
       "      <td>United Kingdom</td>\n",
       "      <td>-286.56</td>\n",
       "      <td>2018</td>\n",
       "      <td>12</td>\n",
       "    </tr>\n",
       "  </tbody>\n",
       "</table>\n",
       "<p>44805 rows × 11 columns</p>\n",
       "</div>"
      ],
      "text/plain": [
       "       TransactionNo       Date ProductNo  \\\n",
       "1             581475 2019-12-09     22596   \n",
       "19            581475 2019-12-09     22581   \n",
       "20            581476 2019-12-09     23198   \n",
       "21            581476 2019-12-09     23197   \n",
       "24            581476 2019-12-09     23167   \n",
       "...              ...        ...       ...   \n",
       "536328       C536391 2018-12-01     21983   \n",
       "536329       C536391 2018-12-01     21980   \n",
       "536330       C536391 2018-12-01     21484   \n",
       "536331       C536391 2018-12-01     22557   \n",
       "536332       C536391 2018-12-01     22553   \n",
       "\n",
       "                                ProductName  Price  Quantity  CustomerNo  \\\n",
       "1       Christmas Star Wish List Chalkboard  10.65        36     13069.0   \n",
       "19       Wood Stocking Christmas Scandispot  10.55        48     13069.0   \n",
       "20            Pantry Magnetic Shopping List  11.53        48     12433.0   \n",
       "21        Sketchbook Magnetic Shopping List  11.74        24     12433.0   \n",
       "24            Small Ceramic Top Storage Jar  10.96        96     12433.0   \n",
       "...                                     ...    ...       ...         ...   \n",
       "536328      Pack Of 12 Blue Paisley Tissues  10.55       -24     17548.0   \n",
       "536329     Pack Of 12 Red Retrospot Tissues  10.55       -24     17548.0   \n",
       "536330          Chick Grey Hot Water Bottle  13.79       -12     17548.0   \n",
       "536331      Plasters In Tin Vintage Paisley  11.94       -12     17548.0   \n",
       "536332               Plasters In Tin Skulls  11.94       -24     17548.0   \n",
       "\n",
       "               Country  TotalPrice  Year  Month  \n",
       "1       United Kingdom      383.40  2019     12  \n",
       "19      United Kingdom      506.40  2019     12  \n",
       "20              Norway      553.44  2019     12  \n",
       "21              Norway      281.76  2019     12  \n",
       "24              Norway     1052.16  2019     12  \n",
       "...                ...         ...   ...    ...  \n",
       "536328  United Kingdom     -253.20  2018     12  \n",
       "536329  United Kingdom     -253.20  2018     12  \n",
       "536330  United Kingdom     -165.48  2018     12  \n",
       "536331  United Kingdom     -143.28  2018     12  \n",
       "536332  United Kingdom     -286.56  2018     12  \n",
       "\n",
       "[44805 rows x 11 columns]"
      ]
     },
     "execution_count": 22,
     "metadata": {},
     "output_type": "execute_result"
    }
   ],
   "source": [
    "df.loc[(df['TotalPrice'] >= upper_limit) | (df['TotalPrice'] <= lower_limit)]"
   ]
  },
  {
   "cell_type": "code",
   "execution_count": 23,
   "id": "8916a38b",
   "metadata": {},
   "outputs": [
    {
     "name": "stdout",
     "output_type": "stream",
     "text": [
      "before removing outliers: 536295\n",
      "after removing outliers: 491490\n",
      "outliers: 44805\n"
     ]
    }
   ],
   "source": [
    "# triming - deleting the outlier data\n",
    "new_df = df.loc[(df['TotalPrice'] < upper_limit) & (df['TotalPrice'] > lower_limit)]\n",
    "print('before removing outliers:', len(df))\n",
    "print('after removing outliers:', len(new_df))\n",
    "print('outliers:', len(df) - len(new_df))"
   ]
  },
  {
   "cell_type": "code",
   "execution_count": 24,
   "id": "fb7ea53d",
   "metadata": {},
   "outputs": [
    {
     "data": {
      "text/plain": [
       "<Axes: >"
      ]
     },
     "execution_count": 24,
     "metadata": {},
     "output_type": "execute_result"
    },
    {
     "data": {
      "image/png": "[encoded data removed]",
      "text/plain": [
       "<Figure size 640x480 with 1 Axes>"
      ]
     },
     "metadata": {},
     "output_type": "display_data"
    }
   ],
   "source": [
    "sns.boxplot(new_df['TotalPrice'])"
   ]
  },
  {
   "cell_type": "code",
   "execution_count": 25,
   "id": "ba36bfed",
   "metadata": {},
   "outputs": [],
   "source": [
    "# capping - change the outlier values to upper or lower limit values\n",
    "new_df = df.copy()\n",
    "new_df.loc[(new_df['TotalPrice'] >= upper_limit ), 'TotalPrice'] = upper_limit\n",
    "new_df.loc[(new_df['TotalPrice'] <= upper_limit ), 'TotalPrice'] = lower_limit"
   ]
  },
  {
   "cell_type": "code",
   "execution_count": 26,
   "id": "1c770df7",
   "metadata": {},
   "outputs": [
    {
     "data": {
      "text/plain": [
       "<Axes: >"
      ]
     },
     "execution_count": 26,
     "metadata": {},
     "output_type": "execute_result"
    },
    {
     "data": {
      "image/png": "[encoded data removed]",
      "text/plain": [
       "<Figure size 640x480 with 1 Axes>"
      ]
     },
     "metadata": {},
     "output_type": "display_data"
    }
   ],
   "source": [
    "sns.boxplot(new_df['TotalPrice'])"
   ]
  },
  {
   "cell_type": "markdown",
   "id": "95676999",
   "metadata": {},
   "source": [
    "# IQR Method"
   ]
  },
  {
   "cell_type": "code",
   "execution_count": 27,
   "id": "751de404",
   "metadata": {},
   "outputs": [],
   "source": [
    "# cleaning outlier in quantity column\n",
    "Q1 = df['Quantity'].quantile(0.25)\n",
    "Q3 = df['Quantity'].quantile(0.75)\n",
    "\n",
    "IQR = Q3 - Q1\n",
    "\n",
    "lower_limit = Q1 - (1.5 * IQR)\n",
    "upper_limit = Q3 + (1.5 * IQR)\n"
   ]
  },
  {
   "cell_type": "code",
   "execution_count": 28,
   "id": "fc63c61f",
   "metadata": {},
   "outputs": [
    {
     "data": {
      "text/plain": [
       "(-12.5, 23.5)"
      ]
     },
     "execution_count": 28,
     "metadata": {},
     "output_type": "execute_result"
    }
   ],
   "source": [
    "lower_limit,upper_limit"
   ]
  },
  {
   "cell_type": "code",
   "execution_count": 29,
   "id": "a11c5397",
   "metadata": {},
   "outputs": [
    {
     "data": {
      "text/plain": [
       "<Axes: >"
      ]
     },
     "execution_count": 29,
     "metadata": {},
     "output_type": "execute_result"
    },
    {
     "data": {
      "image/png": "[encoded data removed]",
      "text/plain": [
       "<Figure size 640x480 with 1 Axes>"
      ]
     },
     "metadata": {},
     "output_type": "display_data"
    }
   ],
   "source": [
    "sns.boxplot(df['Quantity'])"
   ]
  },
  {
   "cell_type": "markdown",
   "id": "d42ca292",
   "metadata": {},
   "source": [
    "## Find Second Outlier"
   ]
  },
  {
   "cell_type": "code",
   "execution_count": 30,
   "id": "e136fa28",
   "metadata": {},
   "outputs": [
    {
     "data": {
      "text/html": [
       "<div>\n",
       "<style scoped>\n",
       "    .dataframe tbody tr th:only-of-type {\n",
       "        vertical-align: middle;\n",
       "    }\n",
       "\n",
       "    .dataframe tbody tr th {\n",
       "        vertical-align: top;\n",
       "    }\n",
       "\n",
       "    .dataframe thead th {\n",
       "        text-align: right;\n",
       "    }\n",
       "</style>\n",
       "<table border=\"1\" class=\"dataframe\">\n",
       "  <thead>\n",
       "    <tr style=\"text-align: right;\">\n",
       "      <th></th>\n",
       "      <th>TransactionNo</th>\n",
       "      <th>Date</th>\n",
       "      <th>ProductNo</th>\n",
       "      <th>ProductName</th>\n",
       "      <th>Price</th>\n",
       "      <th>Quantity</th>\n",
       "      <th>CustomerNo</th>\n",
       "      <th>Country</th>\n",
       "      <th>TotalPrice</th>\n",
       "      <th>Year</th>\n",
       "      <th>Month</th>\n",
       "    </tr>\n",
       "  </thead>\n",
       "  <tbody>\n",
       "    <tr>\n",
       "      <th>1</th>\n",
       "      <td>581475</td>\n",
       "      <td>2019-12-09</td>\n",
       "      <td>22596</td>\n",
       "      <td>Christmas Star Wish List Chalkboard</td>\n",
       "      <td>10.65</td>\n",
       "      <td>36</td>\n",
       "      <td>13069.0</td>\n",
       "      <td>United Kingdom</td>\n",
       "      <td>383.40</td>\n",
       "      <td>2019</td>\n",
       "      <td>12</td>\n",
       "    </tr>\n",
       "    <tr>\n",
       "      <th>5</th>\n",
       "      <td>581475</td>\n",
       "      <td>2019-12-09</td>\n",
       "      <td>21705</td>\n",
       "      <td>Bag 500g Swirly Marbles</td>\n",
       "      <td>10.65</td>\n",
       "      <td>24</td>\n",
       "      <td>13069.0</td>\n",
       "      <td>United Kingdom</td>\n",
       "      <td>255.60</td>\n",
       "      <td>2019</td>\n",
       "      <td>12</td>\n",
       "    </tr>\n",
       "    <tr>\n",
       "      <th>9</th>\n",
       "      <td>581475</td>\n",
       "      <td>2019-12-09</td>\n",
       "      <td>22216</td>\n",
       "      <td>T-Light Holder White Lace</td>\n",
       "      <td>10.55</td>\n",
       "      <td>24</td>\n",
       "      <td>13069.0</td>\n",
       "      <td>United Kingdom</td>\n",
       "      <td>253.20</td>\n",
       "      <td>2019</td>\n",
       "      <td>12</td>\n",
       "    </tr>\n",
       "    <tr>\n",
       "      <th>16</th>\n",
       "      <td>581475</td>\n",
       "      <td>2019-12-09</td>\n",
       "      <td>22955</td>\n",
       "      <td>36 Foil Star Cake Cases</td>\n",
       "      <td>11.06</td>\n",
       "      <td>24</td>\n",
       "      <td>13069.0</td>\n",
       "      <td>United Kingdom</td>\n",
       "      <td>265.44</td>\n",
       "      <td>2019</td>\n",
       "      <td>12</td>\n",
       "    </tr>\n",
       "    <tr>\n",
       "      <th>18</th>\n",
       "      <td>581475</td>\n",
       "      <td>2019-12-09</td>\n",
       "      <td>22956</td>\n",
       "      <td>36 Foil Heart Cake Cases</td>\n",
       "      <td>11.06</td>\n",
       "      <td>24</td>\n",
       "      <td>13069.0</td>\n",
       "      <td>United Kingdom</td>\n",
       "      <td>265.44</td>\n",
       "      <td>2019</td>\n",
       "      <td>12</td>\n",
       "    </tr>\n",
       "    <tr>\n",
       "      <th>...</th>\n",
       "      <td>...</td>\n",
       "      <td>...</td>\n",
       "      <td>...</td>\n",
       "      <td>...</td>\n",
       "      <td>...</td>\n",
       "      <td>...</td>\n",
       "      <td>...</td>\n",
       "      <td>...</td>\n",
       "      <td>...</td>\n",
       "      <td>...</td>\n",
       "      <td>...</td>\n",
       "    </tr>\n",
       "    <tr>\n",
       "      <th>536274</th>\n",
       "      <td>536374</td>\n",
       "      <td>2018-12-01</td>\n",
       "      <td>21258</td>\n",
       "      <td>Victorian Sewing Box Large</td>\n",
       "      <td>21.47</td>\n",
       "      <td>32</td>\n",
       "      <td>15100.0</td>\n",
       "      <td>United Kingdom</td>\n",
       "      <td>687.04</td>\n",
       "      <td>2018</td>\n",
       "      <td>12</td>\n",
       "    </tr>\n",
       "    <tr>\n",
       "      <th>536327</th>\n",
       "      <td>C536391</td>\n",
       "      <td>2018-12-01</td>\n",
       "      <td>21984</td>\n",
       "      <td>Pack Of 12 Pink Paisley Tissues</td>\n",
       "      <td>10.55</td>\n",
       "      <td>-24</td>\n",
       "      <td>17548.0</td>\n",
       "      <td>United Kingdom</td>\n",
       "      <td>-253.20</td>\n",
       "      <td>2018</td>\n",
       "      <td>12</td>\n",
       "    </tr>\n",
       "    <tr>\n",
       "      <th>536328</th>\n",
       "      <td>C536391</td>\n",
       "      <td>2018-12-01</td>\n",
       "      <td>21983</td>\n",
       "      <td>Pack Of 12 Blue Paisley Tissues</td>\n",
       "      <td>10.55</td>\n",
       "      <td>-24</td>\n",
       "      <td>17548.0</td>\n",
       "      <td>United Kingdom</td>\n",
       "      <td>-253.20</td>\n",
       "      <td>2018</td>\n",
       "      <td>12</td>\n",
       "    </tr>\n",
       "    <tr>\n",
       "      <th>536329</th>\n",
       "      <td>C536391</td>\n",
       "      <td>2018-12-01</td>\n",
       "      <td>21980</td>\n",
       "      <td>Pack Of 12 Red Retrospot Tissues</td>\n",
       "      <td>10.55</td>\n",
       "      <td>-24</td>\n",
       "      <td>17548.0</td>\n",
       "      <td>United Kingdom</td>\n",
       "      <td>-253.20</td>\n",
       "      <td>2018</td>\n",
       "      <td>12</td>\n",
       "    </tr>\n",
       "    <tr>\n",
       "      <th>536332</th>\n",
       "      <td>C536391</td>\n",
       "      <td>2018-12-01</td>\n",
       "      <td>22553</td>\n",
       "      <td>Plasters In Tin Skulls</td>\n",
       "      <td>11.94</td>\n",
       "      <td>-24</td>\n",
       "      <td>17548.0</td>\n",
       "      <td>United Kingdom</td>\n",
       "      <td>-286.56</td>\n",
       "      <td>2018</td>\n",
       "      <td>12</td>\n",
       "    </tr>\n",
       "  </tbody>\n",
       "</table>\n",
       "<p>57359 rows × 11 columns</p>\n",
       "</div>"
      ],
      "text/plain": [
       "       TransactionNo       Date ProductNo  \\\n",
       "1             581475 2019-12-09     22596   \n",
       "5             581475 2019-12-09     21705   \n",
       "9             581475 2019-12-09     22216   \n",
       "16            581475 2019-12-09     22955   \n",
       "18            581475 2019-12-09     22956   \n",
       "...              ...        ...       ...   \n",
       "536274        536374 2018-12-01     21258   \n",
       "536327       C536391 2018-12-01     21984   \n",
       "536328       C536391 2018-12-01     21983   \n",
       "536329       C536391 2018-12-01     21980   \n",
       "536332       C536391 2018-12-01     22553   \n",
       "\n",
       "                                ProductName  Price  Quantity  CustomerNo  \\\n",
       "1       Christmas Star Wish List Chalkboard  10.65        36     13069.0   \n",
       "5                   Bag 500g Swirly Marbles  10.65        24     13069.0   \n",
       "9                 T-Light Holder White Lace  10.55        24     13069.0   \n",
       "16                  36 Foil Star Cake Cases  11.06        24     13069.0   \n",
       "18                 36 Foil Heart Cake Cases  11.06        24     13069.0   \n",
       "...                                     ...    ...       ...         ...   \n",
       "536274           Victorian Sewing Box Large  21.47        32     15100.0   \n",
       "536327      Pack Of 12 Pink Paisley Tissues  10.55       -24     17548.0   \n",
       "536328      Pack Of 12 Blue Paisley Tissues  10.55       -24     17548.0   \n",
       "536329     Pack Of 12 Red Retrospot Tissues  10.55       -24     17548.0   \n",
       "536332               Plasters In Tin Skulls  11.94       -24     17548.0   \n",
       "\n",
       "               Country  TotalPrice  Year  Month  \n",
       "1       United Kingdom      383.40  2019     12  \n",
       "5       United Kingdom      255.60  2019     12  \n",
       "9       United Kingdom      253.20  2019     12  \n",
       "16      United Kingdom      265.44  2019     12  \n",
       "18      United Kingdom      265.44  2019     12  \n",
       "...                ...         ...   ...    ...  \n",
       "536274  United Kingdom      687.04  2018     12  \n",
       "536327  United Kingdom     -253.20  2018     12  \n",
       "536328  United Kingdom     -253.20  2018     12  \n",
       "536329  United Kingdom     -253.20  2018     12  \n",
       "536332  United Kingdom     -286.56  2018     12  \n",
       "\n",
       "[57359 rows x 11 columns]"
      ]
     },
     "execution_count": 30,
     "metadata": {},
     "output_type": "execute_result"
    }
   ],
   "source": [
    "df.loc[(df['Quantity'] >= upper_limit) | (df['Quantity'] <= lower_limit)]"
   ]
  },
  {
   "cell_type": "code",
   "execution_count": 31,
   "id": "7d25c98e",
   "metadata": {},
   "outputs": [
    {
     "name": "stdout",
     "output_type": "stream",
     "text": [
      "before removing outliers: 536295\n",
      "after removing outliers: 478936\n",
      "outliers: 57359\n"
     ]
    }
   ],
   "source": [
    "# triming - deleting the outlier data\n",
    "new_df = df.loc[(df['Quantity'] < upper_limit) & (df['Quantity'] > lower_limit)]\n",
    "print('before removing outliers:', len(df))\n",
    "print('after removing outliers:', len(new_df))\n",
    "print('outliers:', len(df) - len(new_df))"
   ]
  },
  {
   "cell_type": "code",
   "execution_count": 32,
   "id": "bc53e0dc",
   "metadata": {},
   "outputs": [
    {
     "data": {
      "text/plain": [
       "<Axes: >"
      ]
     },
     "execution_count": 32,
     "metadata": {},
     "output_type": "execute_result"
    },
    {
     "data": {
      "image/png": "[encoded data removed]",
      "text/plain": [
       "<Figure size 640x480 with 1 Axes>"
      ]
     },
     "metadata": {},
     "output_type": "display_data"
    }
   ],
   "source": [
    "sns.boxplot(new_df['Quantity'])"
   ]
  },
  {
   "cell_type": "code",
   "execution_count": 33,
   "id": "2d66ea5b",
   "metadata": {},
   "outputs": [],
   "source": [
    "# capping - change the outlier values to upper or lower limit values\n",
    "new_df = df.copy()\n",
    "new_df.loc[(new_df['Quantity'] >= upper_limit ), 'Quantity'] = upper_limit\n",
    "new_df.loc[(new_df['Quantity'] <= upper_limit ), 'Quantity'] = lower_limit"
   ]
  },
  {
   "cell_type": "code",
   "execution_count": 34,
   "id": "e1f11979",
   "metadata": {},
   "outputs": [
    {
     "data": {
      "text/plain": [
       "<Axes: >"
      ]
     },
     "execution_count": 34,
     "metadata": {},
     "output_type": "execute_result"
    },
    {
     "data": {
      "image/png": "[encoded data removed]",
      "text/plain": [
       "<Figure size 640x480 with 1 Axes>"
      ]
     },
     "metadata": {},
     "output_type": "display_data"
    }
   ],
   "source": [
    "sns.boxplot(new_df['Quantity'])"
   ]
  },
  {
   "cell_type": "markdown",
   "id": "b2fbdee7",
   "metadata": {},
   "source": [
    "## Top 5 products with highest Total Price"
   ]
  },
  {
   "cell_type": "code",
   "execution_count": 36,
   "id": "90517450",
   "metadata": {},
   "outputs": [
    {
     "data": {
      "text/html": [
       "<div>\n",
       "<style scoped>\n",
       "    .dataframe tbody tr th:only-of-type {\n",
       "        vertical-align: middle;\n",
       "    }\n",
       "\n",
       "    .dataframe tbody tr th {\n",
       "        vertical-align: top;\n",
       "    }\n",
       "\n",
       "    .dataframe thead th {\n",
       "        text-align: right;\n",
       "    }\n",
       "</style>\n",
       "<table border=\"1\" class=\"dataframe\">\n",
       "  <thead>\n",
       "    <tr style=\"text-align: right;\">\n",
       "      <th></th>\n",
       "      <th>TransactionNo</th>\n",
       "      <th>Date</th>\n",
       "      <th>ProductNo</th>\n",
       "      <th>ProductName</th>\n",
       "      <th>Price</th>\n",
       "      <th>Quantity</th>\n",
       "      <th>CustomerNo</th>\n",
       "      <th>Country</th>\n",
       "      <th>TotalPrice</th>\n",
       "      <th>Year</th>\n",
       "      <th>Month</th>\n",
       "    </tr>\n",
       "  </thead>\n",
       "  <tbody>\n",
       "    <tr>\n",
       "      <th>0</th>\n",
       "      <td>581482</td>\n",
       "      <td>2019-12-09</td>\n",
       "      <td>22485</td>\n",
       "      <td>Set Of 2 Wooden Market Crates</td>\n",
       "      <td>21.47</td>\n",
       "      <td>-12.5</td>\n",
       "      <td>17490.0</td>\n",
       "      <td>United Kingdom</td>\n",
       "      <td>257.64</td>\n",
       "      <td>2019</td>\n",
       "      <td>12</td>\n",
       "    </tr>\n",
       "    <tr>\n",
       "      <th>1</th>\n",
       "      <td>581475</td>\n",
       "      <td>2019-12-09</td>\n",
       "      <td>22596</td>\n",
       "      <td>Christmas Star Wish List Chalkboard</td>\n",
       "      <td>10.65</td>\n",
       "      <td>-12.5</td>\n",
       "      <td>13069.0</td>\n",
       "      <td>United Kingdom</td>\n",
       "      <td>383.40</td>\n",
       "      <td>2019</td>\n",
       "      <td>12</td>\n",
       "    </tr>\n",
       "    <tr>\n",
       "      <th>2</th>\n",
       "      <td>581475</td>\n",
       "      <td>2019-12-09</td>\n",
       "      <td>23235</td>\n",
       "      <td>Storage Tin Vintage Leaf</td>\n",
       "      <td>11.53</td>\n",
       "      <td>-12.5</td>\n",
       "      <td>13069.0</td>\n",
       "      <td>United Kingdom</td>\n",
       "      <td>138.36</td>\n",
       "      <td>2019</td>\n",
       "      <td>12</td>\n",
       "    </tr>\n",
       "    <tr>\n",
       "      <th>3</th>\n",
       "      <td>581475</td>\n",
       "      <td>2019-12-09</td>\n",
       "      <td>23272</td>\n",
       "      <td>Tree T-Light Holder Willie Winkie</td>\n",
       "      <td>10.65</td>\n",
       "      <td>-12.5</td>\n",
       "      <td>13069.0</td>\n",
       "      <td>United Kingdom</td>\n",
       "      <td>127.80</td>\n",
       "      <td>2019</td>\n",
       "      <td>12</td>\n",
       "    </tr>\n",
       "    <tr>\n",
       "      <th>4</th>\n",
       "      <td>581475</td>\n",
       "      <td>2019-12-09</td>\n",
       "      <td>23239</td>\n",
       "      <td>Set Of 4 Knick Knack Tins Poppies</td>\n",
       "      <td>11.94</td>\n",
       "      <td>-12.5</td>\n",
       "      <td>13069.0</td>\n",
       "      <td>United Kingdom</td>\n",
       "      <td>71.64</td>\n",
       "      <td>2019</td>\n",
       "      <td>12</td>\n",
       "    </tr>\n",
       "  </tbody>\n",
       "</table>\n",
       "</div>"
      ],
      "text/plain": [
       "  TransactionNo       Date ProductNo                          ProductName  \\\n",
       "0        581482 2019-12-09     22485        Set Of 2 Wooden Market Crates   \n",
       "1        581475 2019-12-09     22596  Christmas Star Wish List Chalkboard   \n",
       "2        581475 2019-12-09     23235             Storage Tin Vintage Leaf   \n",
       "3        581475 2019-12-09     23272    Tree T-Light Holder Willie Winkie   \n",
       "4        581475 2019-12-09     23239    Set Of 4 Knick Knack Tins Poppies   \n",
       "\n",
       "   Price  Quantity  CustomerNo         Country  TotalPrice  Year  Month  \n",
       "0  21.47     -12.5     17490.0  United Kingdom      257.64  2019     12  \n",
       "1  10.65     -12.5     13069.0  United Kingdom      383.40  2019     12  \n",
       "2  11.53     -12.5     13069.0  United Kingdom      138.36  2019     12  \n",
       "3  10.65     -12.5     13069.0  United Kingdom      127.80  2019     12  \n",
       "4  11.94     -12.5     13069.0  United Kingdom       71.64  2019     12  "
      ]
     },
     "execution_count": 36,
     "metadata": {},
     "output_type": "execute_result"
    }
   ],
   "source": [
    "new_df.head()"
   ]
  },
  {
   "cell_type": "code",
   "execution_count": 37,
   "id": "c6536f51",
   "metadata": {},
   "outputs": [
    {
     "data": {
      "image/png": "[encoded data removed]",
      "text/plain": [
       "<Figure size 1000x600 with 1 Axes>"
      ]
     },
     "metadata": {},
     "output_type": "display_data"
    }
   ],
   "source": [
    "top_5 = new_df[['TotalPrice','ProductName']]\n",
    "top_5 = top_5.groupby(by='ProductName').sum()\n",
    "top_5 = top_5.sort_values('TotalPrice', ascending=False)\n",
    "top_5 = top_5.head()\n",
    "\n",
    "# MYSQL\n",
    "# select totalprice, productname from new_df\n",
    "# group by productname\n",
    "# order by totalprice desc limit 5\n",
    "\n",
    "plt.figure(figsize=(10, 6))\n",
    "plt.bar(top_5.index, top_5['TotalPrice'], align='center', alpha=0.8)\n",
    "plt.xlabel('Product Names')\n",
    "plt.ylabel('Total Price')\n",
    "plt.title('Top 5 products with highest Total Price')\n",
    "plt.xticks(rotation=45, ha='right')\n",
    "plt.tight_layout()\n",
    "plt.show()\n",
    "\n"
   ]
  },
  {
   "cell_type": "markdown",
   "id": "9484757b",
   "metadata": {},
   "source": [
    "## What was the best month for sales? How much was earned that month?"
   ]
  },
  {
   "cell_type": "code",
   "execution_count": 46,
   "id": "d2fc726f",
   "metadata": {},
   "outputs": [
    {
     "data": {
      "image/png": "[encoded data removed]",
      "text/plain": [
       "<Figure size 1000x600 with 1 Axes>"
      ]
     },
     "metadata": {},
     "output_type": "display_data"
    }
   ],
   "source": [
    "Monthly_TotalPrice = new_df[['Month', 'TotalPrice']]\n",
    "Monthly_TotalPrice = Monthly_TotalPrice.groupby(by='Month').sum()\n",
    "Monthly_TotalPrice = Monthly_TotalPrice.sort_values('Month', ascending=True)  # Sort by month\n",
    "\n",
    "# Define month names for x-axis labels\n",
    "month_names = ['Jan', 'Feb', 'Mar', 'Apr', 'May', 'Jun', 'Jul', 'Aug', 'Sep', 'Oct', 'Nov', 'Dec']\n",
    "\n",
    "# Plot the data\n",
    "plt.figure(figsize=(10, 6))\n",
    "plt.plot(month_names, Monthly_TotalPrice['TotalPrice'], 'o-' )\n",
    "plt.title('Total Price Trend with respect to Month')\n",
    "plt.xlabel('Months')\n",
    "plt.ylabel('TotalPrice')\n",
    "plt.ticklabel_format(style='plain', axis='y')\n",
    "plt.grid(True)\n",
    "plt.show()"
   ]
  },
  {
   "cell_type": "markdown",
   "id": "d5b0c6e5",
   "metadata": {},
   "source": [
    "## Top 5 countries with highest Total Price"
   ]
  },
  {
   "cell_type": "code",
   "execution_count": 49,
   "id": "8aee1877",
   "metadata": {},
   "outputs": [
    {
     "data": {
      "image/png": "[encoded data removed]",
      "text/plain": [
       "<Figure size 640x480 with 1 Axes>"
      ]
     },
     "metadata": {},
     "output_type": "display_data"
    }
   ],
   "source": [
    "Top_5_highest_countries = new_df[['Country','TotalPrice']]\n",
    "Top_5_highest_countries = Top_5_highest_countries.groupby(by='Country').sum()\n",
    "Top_5_highest_countries = Top_5_highest_countries.sort_values('TotalPrice', ascending = False)\n",
    "Top_5_highest_countries = Top_5_highest_countries.head()\n",
    "\n",
    "plt.bar(Top_5_highest_countries.index, Top_5_highest_countries['TotalPrice'], align='center', alpha=0.8)\n",
    "plt.title('Top 5 countries with highest Total Price')\n",
    "plt.xlabel(\"Country\")\n",
    "plt.ylabel(\"TotalPrice\")\n",
    "plt.xticks(rotation=45, ha='right')\n",
    "plt.show()"
   ]
  }
 ],
 "metadata": {
  "kernelspec": {
   "display_name": "Python 3 (ipykernel)",
   "language": "python",
   "name": "python3"
  },
  "language_info": {
   "codemirror_mode": {
    "name": "ipython",
    "version": 3
   },
   "file_extension": ".py",
   "mimetype": "text/x-python",
   "name": "python",
   "nbconvert_exporter": "python",
   "pygments_lexer": "ipython3",
   "version": "3.10.9"
  }
 },
 "nbformat": 4,
 "nbformat_minor": 5
}
